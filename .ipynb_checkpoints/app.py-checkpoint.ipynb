{
 "cells": [
  {
   "cell_type": "code",
   "execution_count": 1,
   "id": "fd4f05d8-c605-4441-8739-d134fb98db39",
   "metadata": {},
   "outputs": [
    {
     "name": "stdout",
     "output_type": "stream",
     "text": [
      " * Serving Flask app '__main__'\n",
      " * Debug mode: on\n"
     ]
    },
    {
     "name": "stderr",
     "output_type": "stream",
     "text": [
      "WARNING: This is a development server. Do not use it in a production deployment. Use a production WSGI server instead.\n",
      " * Running on http://127.0.0.1:5000\n",
      "Press CTRL+C to quit\n",
      " * Restarting with stat\n"
     ]
    },
    {
     "ename": "SystemExit",
     "evalue": "1",
     "output_type": "error",
     "traceback": [
      "An exception has occurred, use %tb to see the full traceback.\n",
      "\u001b[1;31mSystemExit\u001b[0m\u001b[1;31m:\u001b[0m 1\n"
     ]
    },
    {
     "name": "stderr",
     "output_type": "stream",
     "text": [
      "C:\\Users\\saurb\\AppData\\Local\\Programs\\Python\\Python312\\Lib\\site-packages\\IPython\\core\\interactiveshell.py:3558: UserWarning: To exit: use 'exit', 'quit', or Ctrl-D.\n",
      "  warn(\"To exit: use 'exit', 'quit', or Ctrl-D.\", stacklevel=1)\n"
     ]
    }
   ],
   "source": [
    "from flask import Flask, jsonify\n",
    "\n",
    "# Assuming your dataset is stored in a pandas DataFrame called 'df'\n",
    "# You may need to import pandas and load your dataset into 'df'\n",
    "\n",
    "# Example dataset\n",
    "import pandas as pd\n",
    "df = pd.DataFrame({\n",
    "    'Hours Studied': [4, 6, 5],\n",
    "    'Previous Scores': [85, 90, 88],\n",
    "    'Extracurricular Activities': ['yes', 'no', 'yes'],\n",
    "    'Sleep Hours': [7, 8, 6],\n",
    "    'Sample Question Papers Practiced': [2, 3, 1],\n",
    "    'Performance Index': [80, 85, 82]\n",
    "})\n",
    "\n",
    "app = Flask(__name__)\n",
    "\n",
    "# Define routes\n",
    "@app.route('/')\n",
    "def index():\n",
    "    return 'Welcome to the Student Performance API!'\n",
    "\n",
    "@app.route('/students', methods=['GET'])\n",
    "def get_students():\n",
    "    # Convert DataFrame to JSON and return\n",
    "    return jsonify(df.to_dict(orient='records'))\n",
    "\n",
    "@app.route('/students/<int:index>', methods=['GET'])\n",
    "def get_student(index):\n",
    "    # Get data for a specific student by index\n",
    "    if index >= 0 and index < len(df):\n",
    "        student_data = df.iloc[index].to_dict()\n",
    "        return jsonify(student_data)\n",
    "    else:\n",
    "        return jsonify({'error': 'Student not found'}), 404\n",
    "\n",
    "if __name__ == '__main__':\n",
    "    app.run(debug=True)\n",
    "\n"
   ]
  },
  {
   "cell_type": "code",
   "execution_count": null,
   "id": "5953537e-b49e-4a9a-908b-f9a6b78f943b",
   "metadata": {},
   "outputs": [],
   "source": []
  }
 ],
 "metadata": {
  "kernelspec": {
   "display_name": "Python 3 (ipykernel)",
   "language": "python",
   "name": "python3"
  },
  "language_info": {
   "codemirror_mode": {
    "name": "ipython",
    "version": 3
   },
   "file_extension": ".py",
   "mimetype": "text/x-python",
   "name": "python",
   "nbconvert_exporter": "python",
   "pygments_lexer": "ipython3",
   "version": "3.12.1"
  }
 },
 "nbformat": 4,
 "nbformat_minor": 5
}
